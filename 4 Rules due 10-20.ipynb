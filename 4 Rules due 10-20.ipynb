{
 "cells": [
  {
   "cell_type": "code",
   "execution_count": 1,
   "id": "e8687d77",
   "metadata": {},
   "outputs": [
    {
     "name": "stdout",
     "output_type": "stream",
     "text": [
      "0.0005\n"
     ]
    }
   ],
   "source": [
    "import numpy as np\n",
    "\n",
    "def rule1 (da,c):\n",
    "    dQ=c*da\n",
    "    return dQ\n",
    "da=.0005\n",
    "c=1\n",
    "dQ= rule1(da,c)   \n",
    "print (dQ)"
   ]
  },
  {
   "cell_type": "code",
   "execution_count": 13,
   "id": "51035941",
   "metadata": {},
   "outputs": [
    {
     "name": "stdout",
     "output_type": "stream",
     "text": [
      "4.5\n"
     ]
    }
   ],
   "source": [
    "import numpy as np\n",
    "def rule2 (c, m, A, errA):\n",
    "    dQ = (c*m*A**(m-1))*errA\n",
    "    return dQ\n",
    "c = 15\n",
    "A = 10\n",
    "m = 3\n",
    "errA = .001\n",
    "    \n",
    "dQ = rule2(c, m, A, errA) \n",
    "\n",
    "print (dQ)"
   ]
  },
  {
   "cell_type": "code",
   "execution_count": 9,
   "id": "9105f106",
   "metadata": {},
   "outputs": [
    {
     "name": "stdout",
     "output_type": "stream",
     "text": [
      "dtotal =  2.6\n",
      "errdtotal =  0.0022360679774997894\n",
      "5.2\n",
      "2.3151673805580453\n"
     ]
    }
   ],
   "source": [
    "def rule3 (da, db):\n",
    "    dQ = np.sqrt(da**2+db**2)\n",
    "    return dQ\n",
    "d1 = 2.0\n",
    "d2 = 0.6\n",
    "errd1 = .001\n",
    "errd2 = .002\n",
    "dtotal = d1 +d2\n",
    "errdtotal = rule3(errd1, errd2)\n",
    "\n",
    "print (\"dtotal = \", dtotal)\n",
    "print (\"errdtotal = \", errdtotal)\n",
    "\n",
    "\n",
    "x = np.array ([2, 5, 4, 6, 9])\n",
    "xmean = np.average(x)\n",
    "xstdev = np.std(x)\n",
    "print (xmean)\n",
    "print (xstdev)\n"
   ]
  },
  {
   "cell_type": "code",
   "execution_count": 19,
   "id": "729c77a8",
   "metadata": {},
   "outputs": [
    {
     "name": "stdout",
     "output_type": "stream",
     "text": [
      "0.022360679774997897\n"
     ]
    }
   ],
   "source": [
    "import numpy as np\n",
    "def rule4 (dQ, da, A, B, m, n, errA, errB):\n",
    "    dQ = np.sqrt(da)\n",
    "    return dQ\n",
    "    da = (m*errA/A)**2+(n*eerB/B)**2\n",
    "    A = 10\n",
    "    m = 3\n",
    "    n = 4\n",
    "    errA = .001\n",
    "    errB = .002\n",
    "    \n",
    "    \n",
    "dQ = rule4\n",
    "\n",
    "dQ = np.sqrt (da)\n",
    "print (dQ)"
   ]
  },
  {
   "cell_type": "code",
   "execution_count": null,
   "id": "eb5b9556",
   "metadata": {},
   "outputs": [],
   "source": []
  },
  {
   "cell_type": "code",
   "execution_count": null,
   "id": "9b4e104e",
   "metadata": {},
   "outputs": [],
   "source": []
  }
 ],
 "metadata": {
  "kernelspec": {
   "display_name": "Python 3",
   "language": "python",
   "name": "python3"
  },
  "language_info": {
   "codemirror_mode": {
    "name": "ipython",
    "version": 3
   },
   "file_extension": ".py",
   "mimetype": "text/x-python",
   "name": "python",
   "nbconvert_exporter": "python",
   "pygments_lexer": "ipython3",
   "version": "3.8.8"
  }
 },
 "nbformat": 4,
 "nbformat_minor": 5
}
